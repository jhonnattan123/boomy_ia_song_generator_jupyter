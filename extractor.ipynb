{
 "cells": [
  {
   "attachments": {},
   "cell_type": "markdown",
   "id": "022d28e6",
   "metadata": {},
   "source": [
    "first u need generate authorization and fingerprint code from web"
   ]
  },
  {
   "cell_type": "code",
   "execution_count": null,
   "id": "9e73b2a6",
   "metadata": {},
   "outputs": [],
   "source": [
    "AUTH_TOKEN = \"\"\n",
    "FINGER_PRINT = \"\""
   ]
  },
  {
   "cell_type": "code",
   "execution_count": null,
   "id": "d798e648-1b8f-4ff0-b914-b5eb84cb1111",
   "metadata": {},
   "outputs": [],
   "source": [
    "import json\n",
    "import time\n",
    "import requests"
   ]
  },
  {
   "attachments": {},
   "cell_type": "markdown",
   "id": "c1c793f4",
   "metadata": {},
   "source": [
    "set generation params"
   ]
  },
  {
   "cell_type": "code",
   "execution_count": null,
   "id": "5dc35b14",
   "metadata": {},
   "outputs": [],
   "source": [
    "json_data = {\n",
    "    'tempo': 45,\n",
    "    'drums': 1,\n",
    "    'bass': 1,\n",
    "    'lead': 1,\n",
    "    'chord': 1,\n",
    "    'style': 'relaxation',\n",
    "    'filter': 'ambient_electronic',\n",
    "    'api_version': 3,\n",
    "    'songs': 1,\n",
    "    're_p': 'none',\n",
    "    're_c': 'none',\n",
    "    'intensity': 5,\n",
    "    'advanced': 0,\n",
    "    'drum_density': 0.5,\n",
    "    'lead_density': 0.5,\n",
    "    'bass_density': 0.5,\n",
    "    'chord_density': 0.5,\n",
    "    'humanness': 0.1,\n",
    "    'instrument_ensemble': 'whole_db_harmonic',\n",
    "    'drum_ensemble': 'whole_db_drums',\n",
    "    'mixing_style': 'clean',\n",
    "    'sfx': 'none',\n",
    "}"
   ]
  },
  {
   "cell_type": "code",
   "execution_count": null,
   "id": "b27376bf-7556-42b4-8832-8314d4a887bd",
   "metadata": {},
   "outputs": [],
   "source": [
    "cookies = {\n",
    "}\n",
    "headers = {\n",
    "    'authority': 'boomy.com',\n",
    "    'accept': 'application/json',\n",
    "    'accept-language': 'es-419,es;q=0.9,es-ES;q=0.8,en;q=0.7,en-GB;q=0.6,en-US;q=0.5',\n",
    "    'authorization': AUTH_TOKEN,\n",
    "    'client-build': '2.11.2',\n",
    "    'content-type': 'application/json',\n",
    "    'fingerprint': FINGER_PRINT,\n",
    "    'origin': 'https://boomy.com',\n",
    "    'referer': 'https://boomy.com/edit/11445635',\n",
    "    'sec-ch-ua': '\"Not_A Brand\";v=\"99\", \"Microsoft Edge\";v=\"109\", \"Chromium\";v=\"109\"',\n",
    "    'sec-ch-ua-mobile': '?0',\n",
    "    'sec-ch-ua-platform': '\"Windows\"',\n",
    "    'sec-fetch-dest': 'empty',\n",
    "    'sec-fetch-mode': 'cors',\n",
    "    'sec-fetch-site': 'same-origin',\n",
    "    'user-agent': 'Mozilla/5.0 (Windows NT 10.0; Win64; x64) AppleWebKit/537.36 (KHTML, like Gecko) Chrome/109.0.0.0 Safari/537.36 Edg/109.0.1518.55',\n",
    "}\n",
    "\n",
    "response = requests.post('https://boomy.com/api/song', cookies=cookies, headers=headers, json=json_data)\n",
    "id_song = response.text\n",
    "print(id_song)"
   ]
  },
  {
   "cell_type": "code",
   "execution_count": null,
   "id": "d60aebce-fd7c-4dd6-bad9-bc22217ff1e5",
   "metadata": {},
   "outputs": [],
   "source": [
    "params = {\n",
    "    'removeNotes': 'true',\n",
    "}"
   ]
  },
  {
   "cell_type": "code",
   "execution_count": null,
   "id": "fdc2b765-0ddf-40f6-915a-78ea892110b1",
   "metadata": {},
   "outputs": [],
   "source": [
    "count = 0\n",
    "while count < 10:\n",
    "\n",
    "    count += 1\n",
    "    print(\"Evaluate song creation status try \"+str(count)+\"/10...\")\n",
    "\n",
    "    request_music_path = requests.get('https://boomy.com/api/song/edit/'+str(id_song), params=params, cookies=cookies, headers=headers)\n",
    "    json_data = json.loads(request_music_path.text)\n",
    "    time.sleep(5)\n",
    "\n",
    "    if json_data[\"mp3File\"]:\n",
    "        print(\"Song URL: \"+json_data[\"mp3File\"])\n",
    "        song_name = json_data[\"mp3File\"].split(\"mp3/\")[1]\n",
    "        response = requests.get(json_data[\"mp3File\"])\n",
    "        open('./'+song_name, 'wb').write(response.content)\n",
    "        print(\"Success file saved: \"+song_name)\n",
    "        break\n",
    "\n"
   ]
  }
 ],
 "metadata": {
  "kernelspec": {
   "display_name": "Python 3",
   "language": "python",
   "name": "python3"
  },
  "language_info": {
   "codemirror_mode": {
    "name": "ipython",
    "version": "3"
   },
   "file_extension": ".py",
   "mimetype": "text/x-python",
   "name": "python",
   "nbconvert_exporter": "python",
   "pygments_lexer": "ipython3",
   "version": "3.8.0"
  },
  "orig_nbformat": "4",
  "vscode": {
   "interpreter": {
    "hash": "0adcc2737ebf6a4a119f135174df96668767fca1ef1112612db5ecadf2b6d608"
   }
  }
 },
 "nbformat": 4,
 "nbformat_minor": 5
}
